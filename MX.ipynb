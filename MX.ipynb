{
 "cells": [
  {
   "cell_type": "code",
   "execution_count": 1,
   "id": "e8be971f",
   "metadata": {},
   "outputs": [],
   "source": [
    "import numpy as np\n",
    "import matplotlib.pyplot as plt\n",
    "import pandas as pd\n",
    "from xgboost import XGBClassifier\n",
    "from mlxtend.plotting import plot_confusion_matrix\n",
    "from sklearn.metrics import confusion_matrix, accuracy_score, f1_score, precision_score, recall_score, plot_roc_curve#, plot_confusion_matrix"
   ]
  },
  {
   "cell_type": "code",
   "execution_count": 2,
   "id": "705cf034",
   "metadata": {},
   "outputs": [],
   "source": [
    "dataset = pd.read_csv('Book1_edit_2.csv')\n",
    "X = dataset.iloc[:, 1:-1].values\n",
    "y = dataset.iloc[:, -1].values\n",
    "\n",
    "from sklearn.model_selection import train_test_split\n",
    "X_train, X_test, y_train, y_test = train_test_split(X, y, test_size = 0.2, random_state=44)"
   ]
  },
  {
   "cell_type": "markdown",
   "id": "8a560339",
   "metadata": {},
   "source": [
    "# XGBoost Normal"
   ]
  },
  {
   "cell_type": "code",
   "execution_count": 3,
   "id": "f74847c6",
   "metadata": {},
   "outputs": [
    {
     "name": "stdout",
     "output_type": "stream",
     "text": [
      "accuracy:    1.0 f1-score:    1.0 precision:   1.0 recall:      1.0 sensitivity: 1.0 specificity: 1.0 \n",
      "\n",
      "\n"
     ]
    },
    {
     "data": {
      "image/png": "[encoded data removed]",
      "text/plain": [
       "<Figure size 432x288 with 1 Axes>"
      ]
     },
     "metadata": {
      "needs_background": "light"
     },
     "output_type": "display_data"
    }
   ],
   "source": [
    "X_train, X_test, y_train, y_test = train_test_split(X, y, test_size = 0.2, random_state=935)\n",
    "classifier = XGBClassifier(learning_rate=0.0991, gamma=0, n_estimators = 80)\n",
    "classifier.fit(X_train, y_train)\n",
    "y_pred = classifier.predict(X_test)\n",
    "cm = confusion_matrix(y_test, y_pred)\n",
    "    \n",
    "# plot_confusion_matrix(classifier, X_test, y_test)\n",
    "\n",
    "fig, ax = plot_confusion_matrix(cm)\n",
    "ax.set_title('XGBoost')\n",
    "plt.savefig('XGBoost_cm.svg', bbox_inches='tight')\n",
    "\n",
    "sensitivity = cm[0,0]/(cm[0,0]+cm[0,1])\n",
    "specificity = cm[1,1]/(cm[1,0]+cm[1,1])\n",
    "\n",
    "print('accuracy:   ', accuracy_score(y_test, y_pred)\n",
    "         , 'f1-score:   ', f1_score(y_test, y_pred, average='weighted')\n",
    "         , 'precision:  ', precision_score(y_test, y_pred, average='weighted',  zero_division=0)\n",
    "         , 'recall:     ', recall_score(y_test, y_pred, average='weighted')\n",
    "         , 'sensitivity:', sensitivity\n",
    "         , 'specificity:', specificity, '\\n\\n')"
   ]
  },
  {
   "cell_type": "markdown",
   "id": "543fd71e",
   "metadata": {},
   "source": [
    "# K-Fold"
   ]
  },
  {
   "cell_type": "code",
   "execution_count": 4,
   "id": "6e7d126e",
   "metadata": {},
   "outputs": [
    {
     "name": "stdout",
     "output_type": "stream",
     "text": [
      "[[ 0  4]\n",
      " [ 0 39]]\n",
      "Fold  1 :\n",
      "        accuracy:    0.9069767441860465 \n",
      "        f1-score:    0.8627339761769711 \n",
      "        precision:   0.8226068144943213 \n",
      "        recall:      0.9069767441860465 \n",
      "        sensitivity: 0.0 \n",
      "        specificity: 1.0 \n",
      "\n",
      "\n",
      "[[ 0  5]\n",
      " [ 0 37]]\n",
      "Fold  2 :\n",
      "        accuracy:    0.8809523809523809 \n",
      "        f1-score:    0.8251959011452682 \n",
      "        precision:   0.7760770975056689 \n",
      "        recall:      0.8809523809523809 \n",
      "        sensitivity: 0.0 \n",
      "        specificity: 1.0 \n",
      "\n",
      "\n",
      "[[ 1  3]\n",
      " [ 0 38]]\n",
      "Fold  3 :\n",
      "        accuracy:    0.9285714285714286 \n",
      "        f1-score:    0.9084990958408681 \n",
      "        precision:   0.9337979094076655 \n",
      "        recall:      0.9285714285714286 \n",
      "        sensitivity: 0.25 \n",
      "        specificity: 1.0 \n",
      "\n",
      "\n",
      "[[ 2  3]\n",
      " [ 0 37]]\n",
      "Fold  4 :\n",
      "        accuracy:    0.9285714285714286 \n",
      "        f1-score:    0.914656771799629 \n",
      "        precision:   0.9339285714285714 \n",
      "        recall:      0.9285714285714286 \n",
      "        sensitivity: 0.4 \n",
      "        specificity: 1.0 \n",
      "\n",
      "\n",
      "[[ 1  6]\n",
      " [ 0 35]]\n",
      "Fold  5 :\n",
      "        accuracy:    0.8571428571428571 \n",
      "        f1-score:    0.8092105263157895 \n",
      "        precision:   0.8780487804878048 \n",
      "        recall:      0.8571428571428571 \n",
      "        sensitivity: 0.14285714285714285 \n",
      "        specificity: 1.0 \n",
      "\n",
      "\n",
      "Averages: \n",
      "        accuracy average:    0.9004429678848282 \n",
      "        f1-score average:    0.8640592542557052 \n",
      "        precision average:   0.8688918346648062 \n",
      "        recall average:      0.9004429678848282 \n",
      "        sensitivity average: 0.15857142857142859 \n",
      "        specificity average: 1.0 \n",
      "\n",
      "\n"
     ]
    }
   ],
   "source": [
    "from sklearn.model_selection import KFold\n",
    "k=5\n",
    "kf = KFold(n_splits=k, random_state=722, shuffle=True)\n",
    "kf.get_n_splits(X)\n",
    "i=1\n",
    "accuracy_av = f1_score_av = precision_av = recall_av = sensitivity_av = specificity_av = 0\n",
    "\n",
    "\n",
    "for train_index, test_index in kf.split(X):\n",
    "    X_train, X_test = X[train_index], X[test_index]\n",
    "    y_train, y_test = y[train_index], y[test_index]\n",
    "    \n",
    "    classifier = XGBClassifier(learning_rate=0.0991, gamma=0, n_estimators = 80, eta = 0.255)\n",
    "    classifier.fit(X_train, y_train)\n",
    "    y_pred = classifier.predict(X_test)\n",
    "    cm = confusion_matrix(y_test, y_pred)\n",
    "    print(cm)\n",
    "    \n",
    "    sensitivity = cm[0,0]/(cm[0,0]+cm[0,1])\n",
    "    specificity = cm[1,1]/(cm[1,0]+cm[1,1])\n",
    "    \n",
    "    print('Fold ', i, ':\\n        accuracy:   ', accuracy_score(y_test, y_pred)\n",
    "         , '\\n        f1-score:   ', f1_score(y_test, y_pred, average='weighted')\n",
    "         , '\\n        precision:  ', precision_score(y_test, y_pred, average='weighted',  zero_division=0)\n",
    "         , '\\n        recall:     ', recall_score(y_test, y_pred, average='weighted')\n",
    "         , '\\n        sensitivity:', sensitivity\n",
    "         , '\\n        specificity:', specificity, '\\n\\n')\n",
    "    \n",
    "    accuracy_av+=accuracy_score(y_test, y_pred) / k\n",
    "    f1_score_av+=f1_score(y_test, y_pred, average='weighted') / k\n",
    "    precision_av+=precision_score(y_test, y_pred, average='weighted',  zero_division=0) / k\n",
    "    recall_av+=recall_score(y_test, y_pred, average='weighted') / k\n",
    "    sensitivity_av+=sensitivity / k\n",
    "    specificity_av+=specificity / k\n",
    "    \n",
    "    i+=1\n",
    "\n",
    "print('Averages:', '\\n        accuracy average:   ', accuracy_av\n",
    "    , '\\n        f1-score average:   ', f1_score_av\n",
    "    , '\\n        precision average:  ', precision_av\n",
    "    , '\\n        recall average:     ', recall_av\n",
    "    , '\\n        sensitivity average:', sensitivity_av\n",
    "    , '\\n        specificity average:', specificity_av, '\\n\\n')\n",
    "    "
   ]
  },
  {
   "cell_type": "markdown",
   "id": "73c7a3cb",
   "metadata": {},
   "source": [
    "# Stratified K-Fold"
   ]
  },
  {
   "cell_type": "code",
   "execution_count": 5,
   "id": "2f2a3bd5",
   "metadata": {},
   "outputs": [
    {
     "name": "stdout",
     "output_type": "stream",
     "text": [
      "[[ 1  5]\n",
      " [ 0 47]]\n",
      "Fold  1 :\n",
      "        accuracy:    0.9056603773584906 \n",
      "        f1-score:    0.8743499686895915 \n",
      "        precision:   0.9147314949201742 \n",
      "        recall:      0.9056603773584906 \n",
      "        sensitivity: 0.16666666666666666 \n",
      "        specificity: 1.0 \n",
      "\n",
      "\n",
      "[[ 1  5]\n",
      " [ 0 47]]\n",
      "Fold  2 :\n",
      "        accuracy:    0.9056603773584906 \n",
      "        f1-score:    0.8743499686895915 \n",
      "        precision:   0.9147314949201742 \n",
      "        recall:      0.9056603773584906 \n",
      "        sensitivity: 0.16666666666666666 \n",
      "        specificity: 1.0 \n",
      "\n",
      "\n",
      "[[ 0  7]\n",
      " [ 0 46]]\n",
      "Fold  3 :\n",
      "        accuracy:    0.8679245283018868 \n",
      "        f1-score:    0.8065561273108443 \n",
      "        precision:   0.7532929868280528 \n",
      "        recall:      0.8679245283018868 \n",
      "        sensitivity: 0.0 \n",
      "        specificity: 1.0 \n",
      "\n",
      "\n",
      "[[ 2  4]\n",
      " [ 0 46]]\n",
      "Fold  4 :\n",
      "        accuracy:    0.9230769230769231 \n",
      "        f1-score:    0.905448717948718 \n",
      "        precision:   0.9292307692307692 \n",
      "        recall:      0.9230769230769231 \n",
      "        sensitivity: 0.3333333333333333 \n",
      "        specificity: 1.0 \n",
      "\n",
      "\n",
      "Averages: \n",
      "        accuracy average:    0.9005805515239478 \n",
      "        f1-score average:    0.8651761956596863 \n",
      "        precision average:   0.8779966864747927 \n",
      "        recall average:      0.9005805515239478 \n",
      "        sensitivity average: 0.16666666666666666 \n",
      "        specificity average: 1.0 \n",
      "\n",
      "\n"
     ]
    }
   ],
   "source": [
    "from sklearn.model_selection import StratifiedKFold\n",
    "k=4\n",
    "kf = StratifiedKFold(n_splits=k, random_state=52, shuffle=True)\n",
    "kf.get_n_splits(X)\n",
    "i=1\n",
    "accuracy_av = f1_score_av = precision_av = recall_av = sensitivity_av = specificity_av = 0\n",
    "\n",
    "\n",
    "for train_index, test_index in kf.split(X, y):\n",
    "    X_train, X_test = X[train_index], X[test_index]\n",
    "    y_train, y_test = y[train_index], y[test_index]\n",
    "    \n",
    "    classifier = XGBClassifier(learning_rate=0.0991, gamma=0, n_estimators = 80, eta = 0.255)\n",
    "    classifier.fit(X_train, y_train)\n",
    "    y_pred = classifier.predict(X_test)\n",
    "    cm = confusion_matrix(y_test, y_pred)\n",
    "    print(cm)\n",
    "    \n",
    "    sensitivity = cm[0,0]/(cm[0,0]+cm[0,1])\n",
    "    specificity = cm[1,1]/(cm[1,0]+cm[1,1])\n",
    "    \n",
    "    print('Fold ', i, ':\\n        accuracy:   ', accuracy_score(y_test, y_pred)\n",
    "         , '\\n        f1-score:   ', f1_score(y_test, y_pred, average='weighted')\n",
    "         , '\\n        precision:  ', precision_score(y_test, y_pred, average='weighted',  zero_division=0)\n",
    "         , '\\n        recall:     ', recall_score(y_test, y_pred, average='weighted')\n",
    "         , '\\n        sensitivity:', sensitivity\n",
    "         , '\\n        specificity:', specificity, '\\n\\n')\n",
    "    \n",
    "    accuracy_av+=accuracy_score(y_test, y_pred) / k\n",
    "    f1_score_av+=f1_score(y_test, y_pred, average='weighted') / k\n",
    "    precision_av+=precision_score(y_test, y_pred, average='weighted',  zero_division=0) / k\n",
    "    recall_av+=recall_score(y_test, y_pred, average='weighted') / k\n",
    "    sensitivity_av+=sensitivity / k\n",
    "    specificity_av+=specificity / k\n",
    "    \n",
    "    i+=1\n",
    "\n",
    "print('Averages:', '\\n        accuracy average:   ', accuracy_av\n",
    "    , '\\n        f1-score average:   ', f1_score_av\n",
    "    , '\\n        precision average:  ', precision_av\n",
    "    , '\\n        recall average:     ', recall_av\n",
    "    , '\\n        sensitivity average:', sensitivity_av\n",
    "    , '\\n        specificity average:', specificity_av, '\\n\\n')\n",
    "    "
   ]
  },
  {
   "cell_type": "markdown",
   "id": "7c5e5e0d",
   "metadata": {},
   "source": [
    "# SVM"
   ]
  },
  {
   "cell_type": "code",
   "execution_count": 10,
   "id": "b376f124",
   "metadata": {},
   "outputs": [
    {
     "name": "stdout",
     "output_type": "stream",
     "text": [
      "\n",
      "accuracy:    0.9534883720930233 \n",
      "f1-score:    0.9534883720930233 \n",
      "precision:   0.9534883720930233 \n",
      "recall:      0.9534883720930233 \n",
      "sensitivity: 0.5 \n",
      "specificity: 0.975609756097561 \n",
      "\n",
      "\n"
     ]
    },
    {
     "data": {
      "image/png": "[encoded data removed]",
      "text/plain": [
       "<Figure size 432x288 with 1 Axes>"
      ]
     },
     "metadata": {
      "needs_background": "light"
     },
     "output_type": "display_data"
    }
   ],
   "source": [
    "from sklearn.svm import SVC\n",
    "classifier = SVC(kernel = 'poly', random_state = 0, degree=3, gamma='scale')\n",
    "classifier.fit(X_train, y_train)\n",
    "\n",
    "y_pred = classifier.predict(X_test)\n",
    "cm = confusion_matrix(y_test, y_pred)\n",
    "# print(cm)\n",
    "# plot_confusion_matrix(classifier, X_test, y_test)\n",
    "\n",
    "fig, ax = plot_confusion_matrix(cm)\n",
    "ax.set_title('SVM')\n",
    "plt.savefig('SVM_cm.svg', bbox_inches='tight')\n",
    "\n",
    "sensitivity = cm[0,0]/(cm[0,0]+cm[0,1])\n",
    "specificity = cm[1,1]/(cm[1,0]+cm[1,1])\n",
    "\n",
    "print('\\naccuracy:   ', accuracy_score(y_test, y_pred)\n",
    "         , '\\nf1-score:   ', f1_score(y_test, y_pred, average='weighted')\n",
    "         , '\\nprecision:  ', precision_score(y_test, y_pred, average='weighted',  zero_division=0)\n",
    "         , '\\nrecall:     ', recall_score(y_test, y_pred, average='weighted')\n",
    "         , '\\nsensitivity:', sensitivity\n",
    "         , '\\nspecificity:', specificity, '\\n\\n')"
   ]
  },
  {
   "cell_type": "markdown",
   "id": "c151346b",
   "metadata": {},
   "source": [
    "# Random forest"
   ]
  },
  {
   "cell_type": "code",
   "execution_count": 12,
   "id": "cf50deb9",
   "metadata": {},
   "outputs": [
    {
     "name": "stdout",
     "output_type": "stream",
     "text": [
      "\n",
      "accuracy:    0.9534883720930233 \n",
      "f1-score:    0.9606589147286823 \n",
      "precision:   0.9767441860465116 \n",
      "recall:      0.9534883720930233 \n",
      "sensitivity: 1.0 \n",
      "specificity: 0.9512195121951219 \n",
      "\n",
      "\n"
     ]
    },
    {
     "data": {
      "image/png": "[encoded data removed]",
      "text/plain": [
       "<Figure size 432x288 with 1 Axes>"
      ]
     },
     "metadata": {
      "needs_background": "light"
     },
     "output_type": "display_data"
    }
   ],
   "source": [
    "from sklearn.ensemble import RandomForestClassifier\n",
    "classifier = RandomForestClassifier(n_estimators = 10, criterion = 'entropy', random_state = 120)\n",
    "classifier.fit(X_train, y_train)\n",
    "\n",
    "y_pred = classifier.predict(X_test)\n",
    "cm = confusion_matrix(y_test, y_pred)\n",
    "# print(cm)\n",
    "# plot_confusion_matrix(classifier, X_test, y_test)\n",
    "\n",
    "fig, ax = plot_confusion_matrix(cm)\n",
    "ax.set_title('Random forest')\n",
    "plt.savefig('RF_cm.svg', bbox_inches='tight')\n",
    "\n",
    "sensitivity = cm[0,0]/(cm[0,0]+cm[0,1])\n",
    "specificity = cm[1,1]/(cm[1,0]+cm[1,1])\n",
    "\n",
    "print('\\naccuracy:   ', accuracy_score(y_test, y_pred)\n",
    "         , '\\nf1-score:   ', f1_score(y_test, y_pred, average='weighted')\n",
    "         , '\\nprecision:  ', precision_score(y_test, y_pred, average='weighted',  zero_division=0)\n",
    "         , '\\nrecall:     ', recall_score(y_test, y_pred, average='weighted')\n",
    "         , '\\nsensitivity:', sensitivity\n",
    "         , '\\nspecificity:', specificity, '\\n\\n')"
   ]
  },
  {
   "cell_type": "code",
   "execution_count": 36,
   "id": "eb0e668a",
   "metadata": {},
   "outputs": [
    {
     "name": "stdout",
     "output_type": "stream",
     "text": [
      "[[ 0  4]\n",
      " [ 5 34]]\n",
      "Fold  1 :\n",
      "        accuracy:    0.7906976744186046 \n",
      "        f1-score:    0.80096647538508 \n",
      "        precision:   0.8115055079559362 \n",
      "        recall:      0.7906976744186046 \n",
      "        sensitivity: 0.0 \n",
      "        specificity: 0.8717948717948718 \n",
      "\n",
      "\n",
      "[[ 0  5]\n",
      " [ 0 37]]\n",
      "Fold  2 :\n",
      "        accuracy:    0.8809523809523809 \n",
      "        f1-score:    0.8251959011452682 \n",
      "        precision:   0.7760770975056689 \n",
      "        recall:      0.8809523809523809 \n",
      "        sensitivity: 0.0 \n",
      "        specificity: 1.0 \n",
      "\n",
      "\n",
      "[[ 2  2]\n",
      " [ 1 37]]\n",
      "Fold  3 :\n",
      "        accuracy:    0.9285714285714286 \n",
      "        f1-score:    0.9239332096474955 \n",
      "        precision:   0.9218559218559218 \n",
      "        recall:      0.9285714285714286 \n",
      "        sensitivity: 0.5 \n",
      "        specificity: 0.9736842105263158 \n",
      "\n",
      "\n",
      "[[ 2  3]\n",
      " [ 0 37]]\n",
      "Fold  4 :\n",
      "        accuracy:    0.9285714285714286 \n",
      "        f1-score:    0.914656771799629 \n",
      "        precision:   0.9339285714285714 \n",
      "        recall:      0.9285714285714286 \n",
      "        sensitivity: 0.4 \n",
      "        specificity: 1.0 \n",
      "\n",
      "\n",
      "[[ 1  6]\n",
      " [ 0 35]]\n",
      "Fold  5 :\n",
      "        accuracy:    0.8571428571428571 \n",
      "        f1-score:    0.8092105263157895 \n",
      "        precision:   0.8780487804878048 \n",
      "        recall:      0.8571428571428571 \n",
      "        sensitivity: 0.14285714285714285 \n",
      "        specificity: 1.0 \n",
      "\n",
      "\n",
      "Averages: \n",
      "        accuracy average:    0.8771871539313401 \n",
      "        f1-score average:    0.8547925768586525 \n",
      "        precision average:   0.8642831758467806 \n",
      "        recall average:      0.8771871539313401 \n",
      "        sensitivity average: 0.20857142857142857 \n",
      "        specificity average: 0.9690958164642374 \n",
      "\n",
      "\n"
     ]
    }
   ],
   "source": [
    "from sklearn.model_selection import KFold\n",
    "k=5\n",
    "kf = KFold(n_splits=k, random_state=722, shuffle=True)\n",
    "kf.get_n_splits(X)\n",
    "i=1\n",
    "accuracy_av = f1_score_av = precision_av = recall_av = sensitivity_av = specificity_av = 0\n",
    "\n",
    "\n",
    "for train_index, test_index in kf.split(X):\n",
    "    X_train, X_test = X[train_index], X[test_index]\n",
    "    y_train, y_test = y[train_index], y[test_index]\n",
    "    \n",
    "    classifier = RandomForestClassifier(n_estimators = 10, criterion = 'entropy', random_state = 120)\n",
    "    classifier.fit(X_train, y_train)\n",
    "    y_pred = classifier.predict(X_test)\n",
    "    cm = confusion_matrix(y_test, y_pred)\n",
    "    print(cm)\n",
    "    \n",
    "    sensitivity = cm[0,0]/(cm[0,0]+cm[0,1])\n",
    "    specificity = cm[1,1]/(cm[1,0]+cm[1,1])\n",
    "    \n",
    "    print('Fold ', i, ':\\n        accuracy:   ', accuracy_score(y_test, y_pred)\n",
    "         , '\\n        f1-score:   ', f1_score(y_test, y_pred, average='weighted')\n",
    "         , '\\n        precision:  ', precision_score(y_test, y_pred, average='weighted',  zero_division=0)\n",
    "         , '\\n        recall:     ', recall_score(y_test, y_pred, average='weighted')\n",
    "         , '\\n        sensitivity:', sensitivity\n",
    "         , '\\n        specificity:', specificity, '\\n\\n')\n",
    "    \n",
    "    accuracy_av+=accuracy_score(y_test, y_pred) / k\n",
    "    f1_score_av+=f1_score(y_test, y_pred, average='weighted') / k\n",
    "    precision_av+=precision_score(y_test, y_pred, average='weighted',  zero_division=0) / k\n",
    "    recall_av+=recall_score(y_test, y_pred, average='weighted') / k\n",
    "    sensitivity_av+=sensitivity / k\n",
    "    specificity_av+=specificity / k\n",
    "    \n",
    "    i+=1\n",
    "\n",
    "print('Averages:', '\\n        accuracy average:   ', accuracy_av\n",
    "    , '\\n        f1-score average:   ', f1_score_av\n",
    "    , '\\n        precision average:  ', precision_av\n",
    "    , '\\n        recall average:     ', recall_av\n",
    "    , '\\n        sensitivity average:', sensitivity_av\n",
    "    , '\\n        specificity average:', specificity_av, '\\n\\n')\n",
    "    "
   ]
  },
  {
   "cell_type": "markdown",
   "id": "e1b3c204",
   "metadata": {},
   "source": [
    "# CatBoost"
   ]
  },
  {
   "cell_type": "code",
   "execution_count": 23,
   "id": "cbcbdb0c",
   "metadata": {},
   "outputs": [
    {
     "name": "stdout",
     "output_type": "stream",
     "text": [
      "0:\tlearn: 0.4596457\ttotal: 640us\tremaining: 12.2ms\n",
      "1:\tlearn: 0.3840671\ttotal: 1.4ms\tremaining: 12.6ms\n",
      "2:\tlearn: 0.3504979\ttotal: 1.98ms\tremaining: 11.2ms\n",
      "3:\tlearn: 0.3165157\ttotal: 2.62ms\tremaining: 10.5ms\n",
      "4:\tlearn: 0.2992972\ttotal: 3.16ms\tremaining: 9.48ms\n",
      "5:\tlearn: 0.2937405\ttotal: 3.63ms\tremaining: 8.48ms\n",
      "6:\tlearn: 0.2841357\ttotal: 4.21ms\tremaining: 7.83ms\n",
      "7:\tlearn: 0.2757572\ttotal: 4.74ms\tremaining: 7.11ms\n",
      "8:\tlearn: 0.2677792\ttotal: 5.21ms\tremaining: 6.37ms\n",
      "9:\tlearn: 0.2634368\ttotal: 5.6ms\tremaining: 5.6ms\n",
      "10:\tlearn: 0.2586677\ttotal: 6.05ms\tremaining: 4.95ms\n",
      "11:\tlearn: 0.2479878\ttotal: 6.52ms\tremaining: 4.35ms\n",
      "12:\tlearn: 0.2318818\ttotal: 6.99ms\tremaining: 3.76ms\n",
      "13:\tlearn: 0.2266271\ttotal: 7.45ms\tremaining: 3.19ms\n",
      "14:\tlearn: 0.2237123\ttotal: 7.91ms\tremaining: 2.64ms\n",
      "15:\tlearn: 0.2220806\ttotal: 8.37ms\tremaining: 2.09ms\n",
      "16:\tlearn: 0.2092579\ttotal: 8.82ms\tremaining: 1.56ms\n",
      "17:\tlearn: 0.2074849\ttotal: 9.27ms\tremaining: 1.03ms\n",
      "18:\tlearn: 0.2048691\ttotal: 9.73ms\tremaining: 512us\n",
      "19:\tlearn: 0.1988289\ttotal: 10.2ms\tremaining: 0us\n",
      "\n",
      "accuracy:    0.9302325581395349 \n",
      "f1-score:    0.9438580259893184 \n",
      "precision:   0.9720930232558139 \n",
      "recall:      0.9302325581395349 \n",
      "sensitivity: 1.0 \n",
      "specificity: 0.926829268292683 \n",
      "\n",
      "\n"
     ]
    },
    {
     "data": {
      "image/png": "[encoded data removed]",
      "text/plain": [
       "<Figure size 432x288 with 1 Axes>"
      ]
     },
     "metadata": {
      "needs_background": "light"
     },
     "output_type": "display_data"
    }
   ],
   "source": [
    "from catboost import CatBoostClassifier\n",
    "classifier = CatBoostClassifier(iterations=20, learning_rate=0.44, max_depth=5)\n",
    "classifier.fit(X_train, y_train)\n",
    "\n",
    "y_pred = classifier.predict(X_test)\n",
    "cm = confusion_matrix(y_test, y_pred)\n",
    "# print(cm)\n",
    "# plot_confusion_matrix(classifier, X_test, y_test)\n",
    "\n",
    "fig, ax = plot_confusion_matrix(cm)\n",
    "ax.set_title('CatBoost')\n",
    "plt.savefig('CatBoost_cm.svg', bbox_inches='tight')\n",
    "\n",
    "sensitivity = cm[0,0]/(cm[0,0]+cm[0,1])\n",
    "specificity = cm[1,1]/(cm[1,0]+cm[1,1])\n",
    "\n",
    "print('\\naccuracy:   ', accuracy_score(y_test, y_pred)\n",
    "         , '\\nf1-score:   ', f1_score(y_test, y_pred, average='weighted')\n",
    "         , '\\nprecision:  ', precision_score(y_test, y_pred, average='weighted',  zero_division=0)\n",
    "         , '\\nrecall:     ', recall_score(y_test, y_pred, average='weighted')\n",
    "         , '\\nsensitivity:', sensitivity\n",
    "         , '\\nspecificity:', specificity, '\\n\\n')"
   ]
  },
  {
   "cell_type": "markdown",
   "id": "1ee6551b",
   "metadata": {},
   "source": [
    "# LightGBM"
   ]
  },
  {
   "cell_type": "code",
   "execution_count": 35,
   "id": "05c690a1",
   "metadata": {},
   "outputs": [
    {
     "name": "stdout",
     "output_type": "stream",
     "text": [
      "[LightGBM] [Warning] bagging_fraction is set=1, subsample=1.0 will be ignored. Current value: bagging_fraction=1\n",
      "[LightGBM] [Warning] num_threads is set=8, n_jobs=-1 will be ignored. Current value: num_threads=8\n",
      "\n",
      "accuracy:    0.9534883720930233 \n",
      "f1-score:    0.9307862679955704 \n",
      "precision:   0.9091400757166036 \n",
      "recall:      0.9534883720930233 \n",
      "sensitivity: 0.0 \n",
      "specificity: 1.0 \n",
      "\n",
      "\n"
     ]
    },
    {
     "data": {
      "image/png": "[encoded data removed]",
      "text/plain": [
       "<Figure size 432x288 with 1 Axes>"
      ]
     },
     "metadata": {
      "needs_background": "light"
     },
     "output_type": "display_data"
    }
   ],
   "source": [
    "from lightgbm import LGBMClassifier\n",
    "classifier = LGBMClassifier(n_estimators = 20, num_threads = 8, bagging_fraction = 1, max_depth = 6)\n",
    "classifier.fit(X_train, y_train)\n",
    "\n",
    "y_pred = classifier.predict(X_test)\n",
    "cm = confusion_matrix(y_test, y_pred)\n",
    "# print(cm)\n",
    "# plot_confusion_matrix(classifier, X_test, y_test)\n",
    "\n",
    "fig, ax = plot_confusion_matrix(cm)\n",
    "ax.set_title('LightGBM')\n",
    "plt.savefig('LightGBM_cm.svg', bbox_inches='tight')\n",
    "\n",
    "sensitivity = cm[0,0]/(cm[0,0]+cm[0,1])\n",
    "specificity = cm[1,1]/(cm[1,0]+cm[1,1])\n",
    "\n",
    "print('\\naccuracy:   ', accuracy_score(y_test, y_pred)\n",
    "         , '\\nf1-score:   ', f1_score(y_test, y_pred, average='weighted')\n",
    "         , '\\nprecision:  ', precision_score(y_test, y_pred, average='weighted',  zero_division=0)\n",
    "         , '\\nrecall:     ', recall_score(y_test, y_pred, average='weighted')\n",
    "         , '\\nsensitivity:', sensitivity\n",
    "         , '\\nspecificity:', specificity, '\\n\\n')"
   ]
  },
  {
   "cell_type": "code",
   "execution_count": null,
   "id": "a2a09abe",
   "metadata": {},
   "outputs": [],
   "source": []
  }
 ],
 "metadata": {
  "kernelspec": {
   "display_name": "Python 3 (ipykernel)",
   "language": "python",
   "name": "python3"
  },
  "language_info": {
   "codemirror_mode": {
    "name": "ipython",
    "version": 3
   },
   "file_extension": ".py",
   "mimetype": "text/x-python",
   "name": "python",
   "nbconvert_exporter": "python",
   "pygments_lexer": "ipython3",
   "version": "3.9.12"
  }
 },
 "nbformat": 4,
 "nbformat_minor": 5
}
